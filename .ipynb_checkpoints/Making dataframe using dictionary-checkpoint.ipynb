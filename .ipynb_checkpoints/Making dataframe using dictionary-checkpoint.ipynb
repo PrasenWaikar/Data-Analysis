{
 "cells": [
  {
   "cell_type": "code",
   "execution_count": 1,
   "id": "bcd685ab",
   "metadata": {},
   "outputs": [],
   "source": [
    "import pandas as pd\n",
    "import numpy as np"
   ]
  },
  {
   "cell_type": "markdown",
   "id": "8b62e430",
   "metadata": {},
   "source": [
    "# creating a dataframe from an dictionary"
   ]
  },
  {
   "cell_type": "code",
   "execution_count": 2,
   "id": "396924ca",
   "metadata": {},
   "outputs": [],
   "source": [
    "states=[\"Bihar\",\"maharashtra\",\"Lakshadweep\",\"Goa\"]\n",
    "populations=[128500364 , 124904071, 66001 , 1521992]"
   ]
  },
  {
   "cell_type": "code",
   "execution_count": 3,
   "id": "6004a4ee",
   "metadata": {},
   "outputs": [],
   "source": [
    "dict={\"states\":states,\"Populations\":populations}"
   ]
  },
  {
   "cell_type": "code",
   "execution_count": 4,
   "id": "ad6eb62e",
   "metadata": {},
   "outputs": [
    {
     "data": {
      "text/plain": [
       "{'states': ['Bihar', 'maharashtra', 'Lakshadweep', 'Goa'],\n",
       " 'Populations': [128500364, 124904071, 66001, 1521992]}"
      ]
     },
     "execution_count": 4,
     "metadata": {},
     "output_type": "execute_result"
    }
   ],
   "source": [
    "dict"
   ]
  },
  {
   "cell_type": "code",
   "execution_count": 5,
   "id": "865fed1f",
   "metadata": {},
   "outputs": [],
   "source": [
    "df_population=pd.DataFrame(dict,index=('row1','row2','row3','row4'))"
   ]
  },
  {
   "cell_type": "code",
   "execution_count": 6,
   "id": "c1a94398",
   "metadata": {},
   "outputs": [
    {
     "data": {
      "text/html": [
       "<div>\n",
       "<style scoped>\n",
       "    .dataframe tbody tr th:only-of-type {\n",
       "        vertical-align: middle;\n",
       "    }\n",
       "\n",
       "    .dataframe tbody tr th {\n",
       "        vertical-align: top;\n",
       "    }\n",
       "\n",
       "    .dataframe thead th {\n",
       "        text-align: right;\n",
       "    }\n",
       "</style>\n",
       "<table border=\"1\" class=\"dataframe\">\n",
       "  <thead>\n",
       "    <tr style=\"text-align: right;\">\n",
       "      <th></th>\n",
       "      <th>states</th>\n",
       "      <th>Populations</th>\n",
       "    </tr>\n",
       "  </thead>\n",
       "  <tbody>\n",
       "    <tr>\n",
       "      <th>row1</th>\n",
       "      <td>Bihar</td>\n",
       "      <td>128500364</td>\n",
       "    </tr>\n",
       "    <tr>\n",
       "      <th>row2</th>\n",
       "      <td>maharashtra</td>\n",
       "      <td>124904071</td>\n",
       "    </tr>\n",
       "    <tr>\n",
       "      <th>row3</th>\n",
       "      <td>Lakshadweep</td>\n",
       "      <td>66001</td>\n",
       "    </tr>\n",
       "    <tr>\n",
       "      <th>row4</th>\n",
       "      <td>Goa</td>\n",
       "      <td>1521992</td>\n",
       "    </tr>\n",
       "  </tbody>\n",
       "</table>\n",
       "</div>"
      ],
      "text/plain": [
       "           states  Populations\n",
       "row1        Bihar    128500364\n",
       "row2  maharashtra    124904071\n",
       "row3  Lakshadweep        66001\n",
       "row4          Goa      1521992"
      ]
     },
     "execution_count": 6,
     "metadata": {},
     "output_type": "execute_result"
    }
   ],
   "source": [
    "df_population"
   ]
  },
  {
   "cell_type": "code",
   "execution_count": null,
   "id": "8b7cc445",
   "metadata": {},
   "outputs": [],
   "source": []
  }
 ],
 "metadata": {
  "kernelspec": {
   "display_name": "Python 3 (ipykernel)",
   "language": "python",
   "name": "python3"
  },
  "language_info": {
   "codemirror_mode": {
    "name": "ipython",
    "version": 3
   },
   "file_extension": ".py",
   "mimetype": "text/x-python",
   "name": "python",
   "nbconvert_exporter": "python",
   "pygments_lexer": "ipython3",
   "version": "3.11.3"
  }
 },
 "nbformat": 4,
 "nbformat_minor": 5
}
