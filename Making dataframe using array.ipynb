{
 "cells": [
  {
   "cell_type": "code",
   "execution_count": 1,
   "id": "eb5b13d7",
   "metadata": {},
   "outputs": [],
   "source": [
    "import numpy as np\n",
    "import pandas as pd"
   ]
  },
  {
   "cell_type": "markdown",
   "id": "a2106b00",
   "metadata": {},
   "source": [
    "#  creating a dataframe using array"
   ]
  },
  {
   "cell_type": "code",
   "execution_count": 2,
   "id": "5f9843bf",
   "metadata": {},
   "outputs": [
    {
     "name": "stdout",
     "output_type": "stream",
     "text": [
      "      col1  col2\n",
      "row1     1     4\n",
      "row2     2     5\n",
      "row3     3     6\n"
     ]
    }
   ],
   "source": [
    "#using array\n",
    "data = np.array([[1,4],[2,5],[3,6]])\n",
    "df=pd.DataFrame(data,index=('row1','row2','row3'),columns=('col1','col2'))\n",
    "print(df)"
   ]
  },
  {
   "cell_type": "code",
   "execution_count": null,
   "id": "3306893e",
   "metadata": {},
   "outputs": [],
   "source": []
  }
 ],
 "metadata": {
  "kernelspec": {
   "display_name": "Python 3 (ipykernel)",
   "language": "python",
   "name": "python3"
  },
  "language_info": {
   "codemirror_mode": {
    "name": "ipython",
    "version": 3
   },
   "file_extension": ".py",
   "mimetype": "text/x-python",
   "name": "python",
   "nbconvert_exporter": "python",
   "pygments_lexer": "ipython3",
   "version": "3.11.3"
  }
 },
 "nbformat": 4,
 "nbformat_minor": 5
}
